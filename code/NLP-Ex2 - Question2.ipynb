{
 "cells": [
  {
   "cell_type": "markdown",
   "metadata": {},
   "source": [
    "## Q2. Document Classification\n",
    "\n",
    "## Q2.1 Reuters Dataset\n",
    "first we will copy the code which downlond the dataset from out of the core classification tutorial."
   ]
  },
  {
   "cell_type": "code",
   "execution_count": null,
   "metadata": {},
   "outputs": [],
   "source": [
    "from glob import glob\n",
    "import itertools\n",
    "import os.path\n",
    "import re\n",
    "import tarfile\n",
    "import time\n",
    "import sys\n",
    "\n",
    "import numpy as np\n",
    "import matplotlib.pyplot as plt\n",
    "from matplotlib import rcParams\n",
    "\n",
    "from html.parser import HTMLParser\n",
    "from urllib.request import urlretrieve\n",
    "from sklearn.datasets import get_data_home\n",
    "from sklearn.feature_extraction.text import HashingVectorizer\n",
    "from sklearn.linear_model import SGDClassifier\n",
    "from sklearn.linear_model import PassiveAggressiveClassifier\n",
    "from sklearn.linear_model import Perceptron\n",
    "from sklearn.naive_bayes import MultinomialNB"
   ]
  },
  {
   "cell_type": "code",
   "execution_count": 31,
   "metadata": {},
   "outputs": [],
   "source": [
    "class ReutersParser(HTMLParser):\n",
    "    \"\"\"Utility class to parse a SGML file and yield documents one at a time.\"\"\"\n",
    "\n",
    "    def __init__(self, encoding='latin-1'):\n",
    "        HTMLParser.__init__(self)\n",
    "        self._reset()\n",
    "        self.encoding = encoding\n",
    "\n",
    "    def handle_starttag(self, tag, attrs):\n",
    "        method = 'start_' + tag\n",
    "        getattr(self, method, lambda x: None)(attrs)\n",
    "\n",
    "    def handle_endtag(self, tag):\n",
    "        method = 'end_' + tag\n",
    "        getattr(self, method, lambda: None)()\n",
    "\n",
    "    def _reset(self):\n",
    "        self.in_title = 0\n",
    "        self.in_body = 0\n",
    "        self.in_topics = 0\n",
    "        self.in_topic_d = 0\n",
    "        self.title = \"\"\n",
    "        self.body = \"\"\n",
    "        self.topics = []\n",
    "        self.topic_d = \"\"\n",
    "\n",
    "    def parse(self, fd):\n",
    "        self.docs = []\n",
    "        for chunk in fd:\n",
    "            self.feed(chunk.decode(self.encoding))\n",
    "            for doc in self.docs:\n",
    "                yield doc\n",
    "            self.docs = []\n",
    "        self.close()\n",
    "\n",
    "    def handle_data(self, data):\n",
    "        if self.in_body:\n",
    "            self.body += data\n",
    "        elif self.in_title:\n",
    "            self.title += data\n",
    "        elif self.in_topic_d:\n",
    "            self.topic_d += data\n",
    "\n",
    "    def start_reuters(self, attributes):\n",
    "        pass\n",
    "\n",
    "    def end_reuters(self):\n",
    "        self.body = re.sub(r'\\s+', r' ', self.body)\n",
    "        self.docs.append({'title': self.title,\n",
    "                          'body': self.body,\n",
    "                          'topics': self.topics})\n",
    "        self._reset()\n",
    "\n",
    "    def start_title(self, attributes):\n",
    "        self.in_title = 1\n",
    "\n",
    "    def end_title(self):\n",
    "        self.in_title = 0\n",
    "\n",
    "    def start_body(self, attributes):\n",
    "        self.in_body = 1\n",
    "\n",
    "    def end_body(self):\n",
    "        self.in_body = 0\n",
    "\n",
    "    def start_topics(self, attributes):\n",
    "        self.in_topics = 1\n",
    "\n",
    "    def end_topics(self):\n",
    "        self.in_topics = 0\n",
    "\n",
    "    def start_d(self, attributes):\n",
    "        self.in_topic_d = 1\n",
    "\n",
    "    def end_d(self):\n",
    "        self.in_topic_d = 0\n",
    "        self.topics.append(self.topic_d)\n",
    "        self.topic_d = \"\"\n",
    "\n",
    "\n",
    "def stream_reuters_documents(data_path=None):\n",
    "    \"\"\"Iterate over documents of the Reuters dataset.\n",
    "\n",
    "    The Reuters archive will automatically be downloaded and uncompressed if\n",
    "    the `data_path` directory does not exist.\n",
    "\n",
    "    Documents are represented as dictionaries with 'body' (str),\n",
    "    'title' (str), 'topics' (list(str)) keys.\n",
    "\n",
    "    \"\"\"\n",
    "\n",
    "    DOWNLOAD_URL = ('http://archive.ics.uci.edu/ml/machine-learning-databases/'\n",
    "                    'reuters21578-mld/reuters21578.tar.gz')\n",
    "    ARCHIVE_FILENAME = 'reuters21578.tar.gz'\n",
    "\n",
    "    if data_path is None:\n",
    "        data_path = os.path.join(get_data_home(), \"reuters\")\n",
    "    if not os.path.exists(data_path):\n",
    "        \"\"\"Download the dataset.\"\"\"\n",
    "        print(\"downloading dataset (once and for all) into %s\" %\n",
    "              data_path)\n",
    "        os.mkdir(data_path)\n",
    "\n",
    "        def progress(blocknum, bs, size):\n",
    "            total_sz_mb = '%.2f MB' % (size / 1e6)\n",
    "            current_sz_mb = '%.2f MB' % ((blocknum * bs) / 1e6)\n",
    "            sys.stdout.write(\n",
    "                '\\rdownloaded %s / %s' % (current_sz_mb, total_sz_mb))\n",
    "\n",
    "        archive_path = os.path.join(data_path, ARCHIVE_FILENAME)\n",
    "        urlretrieve(DOWNLOAD_URL, filename=archive_path,\n",
    "                    reporthook=progress)\n",
    "        print(\"untarring Reuters dataset...\")\n",
    "        tarfile.open(archive_path, 'r:gz').extractall(data_path)\n",
    "        print(\"done.\")\n",
    "\n",
    "    parser = ReutersParser()\n",
    "    for filename in glob(os.path.join(data_path, \"*.sgm\")):\n",
    "        for doc in parser.parse(open(filename, 'rb')):\n",
    "            yield doc"
   ]
  },
  {
   "cell_type": "markdown",
   "metadata": {},
   "source": [
    "## Q2.1.1 Descriptive Statistics\n",
    "\n",
    "after we downloanded the dataset, lets load it and print some statistics."
   ]
  },
  {
   "cell_type": "code",
   "execution_count": 32,
   "metadata": {},
   "outputs": [
    {
     "name": "stdout",
     "output_type": "stream",
     "text": [
      "downloading dataset (once and for all) into ../data/reuters\n",
      "downloaded 8.15 MB / 8.15 MBuntarring Reuters dataset...\n",
      "done.\n",
      "                                                   title  \\\n",
      "0                                     BAHIA COCOA REVIEW   \n",
      "1              STANDARD OIL <SRD> TO FORM FINANCIAL UNIT   \n",
      "2             TEXAS COMMERCE BANCSHARES <TCB> FILES PLAN   \n",
      "3           TALKING POINT/BANKAMERICA <BAC> EQUITY OFFER   \n",
      "4       NATIONAL AVERAGE PRICES FOR FARMER-OWNED RESERVE   \n",
      "...                                                  ...   \n",
      "21573  JAPAN/INDIA CONFERENCE CUTS GULF WAR RISK CHARGES   \n",
      "21574      SOVIET INDUSTRIAL GROWTH/TRADE SLOWER IN 1987   \n",
      "21575     SIX KILLED IN SOUTH AFRICAN GOLD MINE ACCIDENT   \n",
      "21576   PROJECTIONS SHOW SWISS VOTERS WANT TRIED PARTIES   \n",
      "21577   AMERICAN EXCHANGE INTRODUCES INSTITUTIONAL INDEX   \n",
      "\n",
      "                                                    body  \\\n",
      "0      Showers continued throughout the week in the B...   \n",
      "1      Standard Oil Co and BP North America Inc said ...   \n",
      "2      Texas Commerce Bancshares Inc's Texas Commerce...   \n",
      "3      BankAmerica Corp is not under pressure to act ...   \n",
      "4      The U.S. Agriculture Department reported the f...   \n",
      "...                                                  ...   \n",
      "21573  The Japan/India-Pakistan-Gulf/Japan shipping c...   \n",
      "21574  The Soviet Union's industrial output is growin...   \n",
      "21575  Six black miners have been killed and two inju...   \n",
      "21576  The prospect of a dominant alliance of sociali...   \n",
      "21577  The American Stock Exchange said it has introd...   \n",
      "\n",
      "                                                  topics  \n",
      "0                     [cocoa, el-salvador, usa, uruguay]  \n",
      "1                                                  [usa]  \n",
      "2                                                  [usa]  \n",
      "3                                          [usa, brazil]  \n",
      "4        [grain, wheat, corn, barley, oat, sorghum, usa]  \n",
      "...                                                  ...  \n",
      "21573  [ship, hong-kong, japan, india, pakistan, iran...  \n",
      "21574                                        [ipi, ussr]  \n",
      "21575                               [gold, south-africa]  \n",
      "21576                                      [switzerland]  \n",
      "21577                                        [usa, amex]  \n",
      "\n",
      "[21578 rows x 3 columns]\n"
     ]
    }
   ],
   "source": [
    "data_stream = pd.DataFrame(stream_reuters_documents('../data/reuters'))\n",
    "print(data_stream)"
   ]
  },
  {
   "cell_type": "markdown",
   "metadata": {},
   "source": [
    "we can see that there are 21578 documents in that dataset, lets see the number of unique categories(topics)."
   ]
  },
  {
   "cell_type": "code",
   "execution_count": 36,
   "metadata": {},
   "outputs": [
    {
     "name": "stdout",
     "output_type": "stream",
     "text": [
      "{'netherlands', 'ose', 'sumita', 'dkr', 'steeg', 'groundnut-oil', 'comecon', 'iran', 'bresser-pereira', 'iwcc', 'lesotho', 'vietnam', 'chirac', 'syria', 'concepcion', 'sunseed', 'rwanda', 'guam', 'south-korea', 'zaire', 'hk', 'indonesia', 'de-la-madrid', 'papandreou', 'young', 'tose', 'mnse', 'cameroon', 'verity', 'papua-new-guinea', 'honduras', 'ethiopia', 'aquino', 'eca', 'afghanistan', 'opec', 'heat', 'nzdlr', 'kullberg', 'eib', 'platinum', 'russell', 'israel', 'ghana', 'cruzado', 'barbados', 'guyana', 'pickens', 'saudriyal', 'austdlr', 'tin', 'zse', 'housing', 'aqazadeh', 'ipi', 'barley', 'poland', 'castorseed', 'biffex', 'adb-africa', 'simex', 'oapec', 'grain', 'cottonseed', 'crude', 'lse', 'dominican-republic', 'james-baker', 'efta', 'conable', 'nickel', 'vanuatu', 'north-korea', 'balladur', 'zambia', 'earn', 'sugar', 'morocco', 'senegal', 'austria', 'oecd', 'icco', 'bahrain', 'ciampi', 'us-virgin-islands', 'malta', 'keating', 'masse', 'paraguay', 'hog', 'pet-chem', 'coconut', 'coffee', 'liechtenstein', 'malawi', 'gas', 'zinc', 'uk', 'hong-kong', 'stse', 'ship', 'wilson', 'prawiro', 'perez-de-cuellar', 'maxwell', 'miyazawa', 'ozal', 'oilseed', 'cayman-islands', 'finland', 'chad', 'greece', 'uae', 'rye', 'douglas', 'livestock', 'iraq', 'ivory-coast', 'adb-asia', 'jaruzelski', 'reserves', 'palm-oil', 'haiti', 'venezuela', 'italy', 'murdoch', 'alfonsin', 'brazil', 'iron-steel', 'suriname', 'malaysia', 'gcc', 'panama', 'nymex', 'un', 'macsharry', 'gandhi', 'worldbank', 'nkr', 'soybean', 'mikulic', 'fse', 'ongpin', 'yugoslavia', 'iwc-wheat', 'congo', 'zhao-ziyang', 'bse', 'bop', 'silver', 'comex', 'deng-xiaoping', 'khomeini', 'sun-meal', 'isa', 'alum', 'euratom', 'stich', 'ryzhkov', 'costa-rica', 'bulgaria', 'singapore', 'gold', 'king-fahd', 'cornglutenfeed', 'wool', 'romania', 'imf', 'somalia', 'niger', 'pse', 'suharto', 'spain', 'amex', 'subroto', 'bolivia', 'halikias', 'zimbabwe', 'volcker', 'dfl', 'benin', 'nyse', 'oman', 'luxembourg', 'nasdaq', 'inro', 'czechoslovakia', 'can', 'interest', 'sierra-leone', 'qatar', 'okongwu', 'iceland', 'belgium', 'orange', 'boesky', 'castor-oil', 'lit', 'usa', 'fishmeal', 'red-bean', 'norway', 'india', 'yeutter', 'haughey', 'cyprus', 'peseta', 'cocoa', 'corrigan', 'cpu', 'inventories', 'japan', 'wpi', 'carcass', 'ase', 'set', 'copper', 'kampuchea', 'thatcher', 'stoltenberg', 'oeien', 'ireland', 'denmark', 'stg', 'delors', 'siregar', 'mulroney', 'mose', 'fuel', 'aruba', 'mauritius', 'duisenberg', 'ringgit', 'turkey', 'gabon', 'kiechle', 'leigh-pemberton', 'gatt', 'dlr', 'liberia', 'takeshita', 'switzerland', 'mancera-aguayo', 'tea', 'machinea', 'citruspulp', 'income', 'imco', 'linseed', 'dmk', 'sri-lanka', 'fernandez', 'libya', 'petricioli', 'wheat', 'hisham-nazer', 'brunei', 'fao', 'antigua', 'coconut-oil', 'acq', 'philippines', 'reagan', 'tunisia', 'del-mazo', 'money-fx', 'rand', 'madagascar', 'camdessus', 'rape-oil', 'yen', 'jet', 'bahamas', 'bfr', 'howard-baker', 'fujioka', 'east-germany', 'lei', 'kenya', 'atpc', 'yemen-demo-republic', 'cotton-oil', 'plywood', 'soy-meal', 'instal-debt', 'nepal', 'pakistan', 'chile', 'mozambique', 'james-miller', 'ruding', 'f-cattle', 'palmkernel', 'veg-oil', 'lange', 'togo', 'jobs', 'nycsce', 'wang-bingqian', 'mise', 'gnp', 'nyce', 'jordan', 'hawke', 'retail', 'soy-oil', 'liffe', 'eyskens', 'bhutan', 'garcia', 'mousavi', 'andriessen', 'bis', 'nat-gas', 'lin-oil', 'martens', 'uruguay', 'kuwait', 'schlueter', 'yemen-arab-republic', 'rubio', 'france', 'singhasaneh', 'colombia', 'sse', 'lumber', 'nicaragua', 'portugal', 'mexico', 'corn-oil', 'fiji', 'herrington', 'mitterrand', 'rapeseed', 'sweden', 'djibouti', 'guatemala', 'de-kock', 'west-germany', 'propane', 'greenspan', 'lebanon', 'rape-meal', 'palladium', 'sudan', 'el-salvador', 'jamaica', 'lukman', 'ipe', 'lead', 'taiwan', 'algeria', 'new-zealand', 'namibia', 'south-africa', 'burkina-faso', 'rice', 'sarney', 'brodersohn', 'strategic-metal', 'languetin', 'potato', 'botswana', 'itc', 'babangida', 'copra-cake', 'bond', 'von-weizsaecker', 'de-clercq', 'tamura', 'ida', 'hungary', 'nigeria', 'naphtha', 'hkse', 'bangladesh', 'cboe', 'tanzania', 'guinea', 'sprinkel', 'kaufman', 'china', 'mohammed-ali-abal-khail', 'iea', 'tapioca', 'unctad', 'trade', 'cossiga', 'goria', 'ecuador', 'angola', 'rubber', 'sourrouille', 'johnston', 'egypt', 'cotton', 'poehl', 'tse', 'sorghum', 'canada', 'peru', 'trinidad-tobago', 'thailand', 'saudi-arabia', 'icahn', 'dauster', 'sun-oil', 'rupiah', 'lin-meal', 'mauritania', 'burma', 'sfr', 'corn', 'cme', 'lawson', 'du-plessis', 'meal-feed', 'pork-belly', 'australia', 'oat', 'lyng', 'nakasone', 'uganda', 'lme', 'bangemann', 'de-larosiere', 'asean', 'money-supply', 'cuba', 'carlsson', 'bermuda', 'ec', 'asx', 'cavaco-silva', 'skr', 'cbt', 'escap', 'ussr', 'groundnut', 'ico-coffee', 'l-cattle', 'argentina', 'swaziland', 'kohl', 'cpi'}\n"
     ]
    }
   ],
   "source": [
    "unique_topics = set()\n",
    "for topics in data_stream['topics']:\n",
    "    unique_topics.update(topics)\n",
    "print(unique_topics)"
   ]
  },
  {
   "cell_type": "markdown",
   "metadata": {},
   "source": [
    "we have a lot of classes in that dataset, lets try to see the number of documents per class."
   ]
  },
  {
   "cell_type": "code",
   "execution_count": 39,
   "metadata": {},
   "outputs": [
    {
     "name": "stdout",
     "output_type": "stream",
     "text": [
      "Counter({'usa': 12542, 'earn': 3987, 'acq': 2448, 'uk': 1489, 'japan': 1138, 'canada': 1104, 'money-fx': 801, 'crude': 634, 'grain': 628, 'west-germany': 567, 'trade': 552, 'interest': 513, 'france': 469, 'ec': 349, 'brazil': 332, 'wheat': 306, 'ship': 305, 'australia': 270, 'corn': 254, 'china': 223, 'dlr': 217, 'ussr': 216, 'switzerland': 214, 'belgium': 214, 'netherlands': 196, 'oilseed': 192, 'money-supply': 190, 'sugar': 184, 'iran': 179, 'italy': 170, 'james-baker': 168, 'reagan': 166, 'gnp': 163, 'coffee': 145, 'hong-kong': 142, 'veg-oil': 137, 'philippines': 136, 'gold': 135, 'nat-gas': 130, 'taiwan': 128, 'soybean': 120, 'bop': 116, 'spain': 115, 'livestock': 114, 'south-africa': 113, 'new-zealand': 112, 'cpi': 112, 'sweden': 112, 'south-korea': 111, 'imf': 106, 'indonesia': 99, 'nyse': 97, 'opec': 93, 'argentina': 90, 'iraq': 90, 'worldbank': 87, 'saudi-arabia': 87, 'reserves': 84, 'india': 82, 'thailand': 81, 'mexico': 81, 'gatt': 80, 'volcker': 79, 'copper': 78, 'malaysia': 78, 'cocoa': 76, 'jobs': 76, 'venezuela': 75, 'carcass': 75, 'ecuador': 72, 'singapore': 71, 'nasdaq': 69, 'yen': 69, 'rice': 67, 'iron-steel': 67, 'ipi': 65, 'gas': 65, 'turkey': 64, 'cotton': 63, 'alum': 63, 'yeutter': 63, 'nakasone': 61, 'lawson': 60, 'amex': 60, 'miyazawa': 59, 'ico-coffee': 56, 'denmark': 56, 'barley': 54, 'colombia': 53, 'kuwait': 53, 'stoltenberg': 53, 'meal-feed': 51, 'rubber': 51, 'oecd': 50, 'egypt': 49, 'luxembourg': 49, 'yugoslavia': 47, 'bahrain': 46, 'peru': 45, 'zinc': 44, 'norway': 44, 'icco': 44, 'palm-oil': 43, 'tse': 43, 'uae': 42, 'pet-chem': 41, 'lyng': 40, 'finland': 40, 'pakistan': 39, 'portugal': 38, 'nigeria': 37, 'silver': 37, 'cbt': 37, 'greenspan': 37, 'sumita': 36, 'greece': 36, 'sorghum': 35, 'algeria': 35, 'rapeseed': 35, 'balladur': 35, 'lead': 35, 'bangladesh': 34, 'sri-lanka': 33, 'tin': 33, 'strategic-metal': 32, 'cme': 32, 'wpi': 32, 'orange': 29, 'lse': 28, 'nicaragua': 28, 'fuel': 28, 'soy-meal': 27, 'retail': 27, 'austria': 27, 'hog': 27, 'israel': 27, 'soy-oil': 25, 'ongpin': 25, 'heat': 25, 'poehl': 25, 'zambia': 23, 'bolivia': 23, 'housing': 21, 'stg': 21, 'conable': 20, 'ivory-coast': 20, 'cyprus': 20, 'adb-asia': 20, 'lebanon': 19, 'hungary': 19, 'kenya': 19, 'costa-rica': 19, 'thatcher': 19, 'poland': 18, 'cuba': 18, 'ireland': 18, 'morocco': 18, 'income': 18, 'sunseed': 17, 'qatar': 17, 'lei': 17, 'chile': 17, 'uganda': 17, 'jordan': 17, 'lumber': 17, 'wilson': 16, 'tanzania': 16, 'subroto': 16, 'libya': 16, 'zimbabwe': 16, 'james-miller': 16, 'herrington': 16, 'tea': 15, 'cboe': 15, 'ghana': 15, 'dmk': 15, 'oat': 14, 'de-clercq': 14, 'lme': 13, 'jamaica': 13, 'pse': 13, 'sarney': 13, 'panama': 12, 'honduras': 12, 'chirac': 12, 'platinum': 12, 'liffe': 12, 'itc': 12, 'el-salvador': 11, 'howard-baker': 11, 'sprinkel': 11, 'boesky': 11, 'nickel': 11, 'ase': 11, 'syria': 10, 'nymex': 10, 'adb-africa': 10, 'tunisia': 10, 'groundnut': 10, 'kohl': 10, 'tose': 10, 'un': 10, 'eyskens': 10, 'zaire': 9, 'l-cattle': 9, 'guatemala': 9, 'sudan': 9, 'unctad': 9, 'douglas': 9, 'tamura': 9, 'sun-oil': 8, 'yemen-arab-republic': 8, 'keating': 8, 'rape-oil': 8, 'fao': 8, 'dauster': 8, 'dominican-republic': 8, 'icahn': 8, 'delors': 8, 'du-plessis': 8, 'jet': 8, 'haiti': 8, 'chad': 8, 'vietnam': 8, 'zhao-ziyang': 8, 'hisham-nazer': 7, 'simex': 7, 'leigh-pemberton': 7, 'comex': 7, 'hawke': 7, 'papua-new-guinea': 7, 'instal-debt': 7, 'mulroney': 7, 'coconut-oil': 7, 'inro': 7, 'inventories': 7, 'von-weizsaecker': 7, 'north-korea': 7, 'eib': 7, 'naphtha': 7, 'fse': 7, 'hkse': 7, 'oman': 6, 'camdessus': 6, 'propane': 6, 'aqazadeh': 6, 'potato': 6, 'ruding': 6, 'iea': 6, 'nycsce': 6, 'coconut': 6, 'bangemann': 6, 'fernandez': 6, 'brunei': 6, 'nyce': 6, 'uruguay': 5, 'sse': 5, 'czechoslovakia': 5, 'romania': 5, 'suriname': 5, 'gabon': 5, 'madagascar': 5, 'ethiopia': 5, 'petricioli': 5, 'garcia': 5, 'mikulic': 5, 'senegal': 5, 'papandreou': 5, 'mauritius': 5, 'mozambique': 5, 'asx': 5, 'mancera-aguayo': 5, 'plywood': 4, 'tapioca': 4, 'aquino': 4, 'languetin': 4, 'de-kock': 4, 'east-germany': 4, 'biffex': 4, 'ida': 4, 'zse': 4, 'machinea': 4, 'cpu': 4, 'austdlr': 4, 'trinidad-tobago': 4, 'nzdlr': 4, 'bermuda': 4, 'pork-belly': 4, 'malawi': 4, 'concepcion': 4, 'cavaco-silva': 4, 'iwc-wheat': 4, 'cameroon': 4, 'sourrouille': 4, 'fujioka': 4, 'perez-de-cuellar': 4, 'mise': 4, 'takeshita': 4, 'copra-cake': 3, 'palmkernel': 3, 'gandhi': 3, 'atpc': 3, 'brodersohn': 3, 'nepal': 3, 'yemen-demo-republic': 3, 'deng-xiaoping': 3, 'saudriyal': 3, 'liberia': 3, 'suharto': 3, 'afghanistan': 3, 'somalia': 3, 'can': 3, 'goria': 3, 'palladium': 3, 'dfl': 3, 'king-fahd': 3, 'bulgaria': 3, 'sierra-leone': 3, 'iceland': 3, 'gcc': 3, 'cotton-oil': 3, 'rand': 3, 'isa': 3, 'barbados': 3, 'mousavi': 3, 'botswana': 3, 'togo': 3, 'lit': 3, 'ozal': 3, 'nkr': 3, 'f-cattle': 3, 'del-mazo': 3, 'corrigan': 3, 'sfr': 3, 'fiji': 3, 'verity': 3, 'linseed': 2, 'lin-oil': 2, 'rye': 2, 'congo': 2, 'groundnut-oil': 2, 'cornglutenfeed': 2, 'wool': 2, 'us-virgin-islands': 2, 'guam': 2, 'mose': 2, 'de-larosiere': 2, 'cayman-islands': 2, 'duisenberg': 2, 'haughey': 2, 'fishmeal': 2, 'paraguay': 2, 'angola': 2, 'bis': 2, 'ipe': 2, 'murdoch': 2, 'schlueter': 2, 'stse': 2, 'kampuchea': 2, 'burma': 2, 'mohammed-ali-abal-khail': 2, 'lange': 2, 'babangida': 2, 'alfonsin': 2, 'guyana': 2, 'oapec': 2, 'djibouti': 2, 'ciampi': 2, 'martens': 2, 'masse': 2, 'wang-bingqian': 2, 'jaruzelski': 2, 'castor-oil': 2, 'macsharry': 2, 'asean': 2, 'sun-meal': 2, 'bse': 2, 'kaufman': 2, 'namibia': 2, 'escap': 2, 'eca': 2, 'de-la-madrid': 2, 'rwanda': 2, 'bresser-pereira': 2, 'niger': 2, 'maxwell': 1, 'russell': 1, 'red-bean': 1, 'citruspulp': 1, 'rape-meal': 1, 'bhutan': 1, 'liechtenstein': 1, 'halikias': 1, 'cossiga': 1, 'imco': 1, 'euratom': 1, 'pickens': 1, 'corn-oil': 1, 'aruba': 1, 'mnse': 1, 'khomeini': 1, 'peseta': 1, 'iwcc': 1, 'siregar': 1, 'singhasaneh': 1, 'kullberg': 1, 'ringgit': 1, 'okongwu': 1, 'castorseed': 1, 'guinea': 1, 'prawiro': 1, 'rupiah': 1, 'comecon': 1, 'ryzhkov': 1, 'set': 1, 'young': 1, 'mauritania': 1, 'vanuatu': 1, 'skr': 1, 'dkr': 1, 'lin-meal': 1, 'steeg': 1, 'carlsson': 1, 'efta': 1, 'malta': 1, 'cruzado': 1, 'johnston': 1, 'lukman': 1, 'cottonseed': 1, 'bond': 1, 'rubio': 1, 'bfr': 1, 'ose': 1, 'andriessen': 1, 'hk': 1, 'antigua': 1, 'oeien': 1, 'kiechle': 1, 'benin': 1, 'burkina-faso': 1, 'lesotho': 1, 'swaziland': 1, 'bahamas': 1, 'mitterrand': 1, 'stich': 1})\n"
     ]
    }
   ],
   "source": [
    "from collections import Counter\n",
    "\n",
    "classes_counter = Counter()\n",
    "for topics in data_stream['topics']:\n",
    "    classes_counter.update(topics)\n",
    "\n",
    "print(classes_counter)"
   ]
  },
  {
   "cell_type": "markdown",
   "metadata": {},
   "source": [
    "we can allready see that there are many classes with only 1 samples, we will plot the 10 most common classes."
   ]
  },
  {
   "cell_type": "code",
   "execution_count": 44,
   "metadata": {},
   "outputs": [
    {
     "data": {
      "text/plain": [
       "<BarContainer object of 10 artists>"
      ]
     },
     "execution_count": 44,
     "metadata": {},
     "output_type": "execute_result"
    },
    {
     "data": {
      "image/png": "[encoded data removed]",
      "text/plain": [
       "<Figure size 432x288 with 1 Axes>"
      ]
     },
     "metadata": {
      "needs_background": "light"
     },
     "output_type": "display_data"
    }
   ],
   "source": [
    "most_common = classes_counter.most_common(10)\n",
    "\n",
    "plt.bar([x[0] for x in most_common], [x[1] for x in most_common])"
   ]
  },
  {
   "cell_type": "markdown",
   "metadata": {},
   "source": [
    "we can see that this dataset is higly imbalanced, with the biggest class having 3*the second most common one samples. we will now print the mean,std,max,min. we know that the max is usa with 12k samples and there are alot of classes with only 1 sample(which is the min). we will only calculate the mean and std."
   ]
  },
  {
   "cell_type": "code",
   "execution_count": 46,
   "metadata": {},
   "outputs": [
    {
     "name": "stdout",
     "output_type": "stream",
     "text": [
      "643.9321684195976\n",
      "89.87191011235954\n"
     ]
    }
   ],
   "source": [
    "print(np.std(list(classes_counter.values())))\n",
    "print(np.mean(list(classes_counter.values())))"
   ]
  },
  {
   "cell_type": "markdown",
   "metadata": {},
   "source": [
    "we can see that those values are very big which supports our suspicsion that the database is higly imbalanced. we will how many words and unique words are there in the dataset."
   ]
  },
  {
   "cell_type": "code",
   "execution_count": 49,
   "metadata": {},
   "outputs": [
    {
     "name": "stdout",
     "output_type": "stream",
     "text": [
      "words in the dataset : 2567249\n",
      "unique words in the dataset : 112342\n"
     ]
    }
   ],
   "source": [
    "from nltk import WhitespaceTokenizer\n",
    "\n",
    "words = []\n",
    "for text in data_stream['body']:\n",
    "    words.extend(WhitespaceTokenizer().tokenize(text))\n",
    "    \n",
    "print('words in the dataset : ' + str(len(words)))\n",
    "print('unique words in the dataset : ' + str(len(set(words))))"
   ]
  },
  {
   "cell_type": "markdown",
   "metadata": {},
   "source": [
    "## Q2.1.2 Partial-fit classifiers\n",
    "partial fit classifiers are classifiers which can be trained only one some part of the dataset , lets consider some example(neural network), we know that neural network training method is gradient decent in which for every example(or a batch of examples) we compute the partial derivatives and we fix our weights based on the error in each layer using the chain rule. so we can see that in neural network learning method we dont actually need all the examples all the time. lets consider the oppisite method, for example linear regression(linear regression can be also train using gradient decent, but for the sake of the explaination we will consider only the regualr approch) we only need to solve 1 equation over the entire dataset, we can't solve it partialy for half of the dataset because we will get the wrong weights."
   ]
  },
  {
   "cell_type": "markdown",
   "metadata": {},
   "source": [
    "## Q2.1.3 Hashing Vectorizer\n",
    "since our training is only for some batch over the dataset, we want to be able to map all the vectors to the same space because if we will encounter some unknown words, it wont affect that much on the given vector for the classifier. we want to guarantee that the features space remains the same over time(that is why we use the HashVectorizer), This is especially useful in the case of text classification where new features (words) may appear in each batch, since the dimensions are fixed the classifier won't be \"surprised\"."
   ]
  },
  {
   "cell_type": "markdown",
   "metadata": {},
   "source": [
    "## Q2.2. BBC News Dataset\n",
    "we will start by loading the dataset."
   ]
  },
  {
   "cell_type": "code",
   "execution_count": null,
   "metadata": {},
   "outputs": [],
   "source": [
    "import numpy as np\n",
    "import pandas as pd\n",
    "import sklearn\n",
    "import matplotlib.pyplot as plt\n",
    "import nltk"
   ]
  },
  {
   "cell_type": "code",
   "execution_count": 2,
   "metadata": {},
   "outputs": [],
   "source": [
    "train = pd.read_csv('../data/BBC News Train.csv')\n",
    "test = pd.read_csv('../data/BBC News Test.csv')"
   ]
  },
  {
   "cell_type": "markdown",
   "metadata": {},
   "source": [
    "## Q2.2.1 Descriptive Statistics\n",
    "\n",
    "we will now print some statistics over the dataset in order to understund it better."
   ]
  },
  {
   "cell_type": "code",
   "execution_count": 3,
   "metadata": {},
   "outputs": [
    {
     "data": {
      "text/plain": [
       "1490"
      ]
     },
     "execution_count": 3,
     "metadata": {},
     "output_type": "execute_result"
    }
   ],
   "source": [
    "len(train)"
   ]
  },
  {
   "cell_type": "markdown",
   "metadata": {},
   "source": [
    "we can see that the document contain 1490 rows , lets explore the columns provided in the dataset."
   ]
  },
  {
   "cell_type": "code",
   "execution_count": 4,
   "metadata": {},
   "outputs": [
    {
     "name": "stdout",
     "output_type": "stream",
     "text": [
      "      ArticleId                                               Text  \\\n",
      "0          1833  worldcom ex-boss launches defence lawyers defe...   \n",
      "1           154  german business confidence slides german busin...   \n",
      "2          1101  bbc poll indicates economic gloom citizens in ...   \n",
      "3          1976  lifestyle  governs mobile choice  faster  bett...   \n",
      "4           917  enron bosses in $168m payout eighteen former e...   \n",
      "...         ...                                                ...   \n",
      "1485        857  double eviction from big brother model caprice...   \n",
      "1486        325  dj double act revamp chart show dj duo jk and ...   \n",
      "1487       1590  weak dollar hits reuters revenues at media gro...   \n",
      "1488       1587  apple ipod family expands market apple has exp...   \n",
      "1489        538  santy worm makes unwelcome visit thousands of ...   \n",
      "\n",
      "           Category  \n",
      "0          business  \n",
      "1          business  \n",
      "2          business  \n",
      "3              tech  \n",
      "4          business  \n",
      "...             ...  \n",
      "1485  entertainment  \n",
      "1486  entertainment  \n",
      "1487       business  \n",
      "1488           tech  \n",
      "1489           tech  \n",
      "\n",
      "[1490 rows x 3 columns]\n"
     ]
    }
   ],
   "source": [
    "print(train)"
   ]
  },
  {
   "cell_type": "markdown",
   "metadata": {},
   "source": [
    "we can see that there are 3 columns , Articleid which isn't very usefull. we have text , which is the actual text of the article and we have the category which is the classification."
   ]
  },
  {
   "cell_type": "code",
   "execution_count": 5,
   "metadata": {},
   "outputs": [
    {
     "name": "stdout",
     "output_type": "stream",
     "text": [
      "['business' 'tech' 'politics' 'sport' 'entertainment']\n"
     ]
    }
   ],
   "source": [
    "print(train['Category'].unique())"
   ]
  },
  {
   "cell_type": "markdown",
   "metadata": {},
   "source": [
    "we have 5 categories in the dataset , which is the above categories , lets now explore how many documents are there for each category."
   ]
  },
  {
   "cell_type": "code",
   "execution_count": 6,
   "metadata": {},
   "outputs": [
    {
     "data": {
      "text/plain": [
       "<BarContainer object of 5 artists>"
      ]
     },
     "execution_count": 6,
     "metadata": {},
     "output_type": "execute_result"
    },
    {
     "data": {
      "image/png": "[encoded data removed]",
      "text/plain": [
       "<Figure size 432x288 with 1 Axes>"
      ]
     },
     "metadata": {
      "needs_background": "light"
     },
     "output_type": "display_data"
    }
   ],
   "source": [
    "categories = train['Category'].unique()\n",
    "documents_per_category = {}\n",
    "for category in categories :\n",
    "    documents_per_category[category] = len(train[train['Category'] == category])\n",
    "    \n",
    "plt.bar(documents_per_category.keys(), documents_per_category.values())"
   ]
  },
  {
   "cell_type": "markdown",
   "metadata": {},
   "source": [
    "we can see that the data is pretty much balanced , there are about 300 articles for each category. we will now calculate the mean and the std."
   ]
  },
  {
   "cell_type": "code",
   "execution_count": 7,
   "metadata": {},
   "outputs": [
    {
     "name": "stdout",
     "output_type": "stream",
     "text": [
      "mean : 298.0\n",
      "std : 35.5471517846367\n"
     ]
    }
   ],
   "source": [
    "print('mean : ' + str(np.mean(list(documents_per_category.values()))))\n",
    "print('std : ' + str(np.std(list(documents_per_category.values()))))"
   ]
  },
  {
   "cell_type": "markdown",
   "metadata": {},
   "source": [
    "this confirms the above observations that the dataset is pretty much balanced and there are about 300 articles per category. we will now calculate the average number of words in article per category."
   ]
  },
  {
   "cell_type": "code",
   "execution_count": 8,
   "metadata": {},
   "outputs": [
    {
     "data": {
      "text/plain": [
       "<BarContainer object of 5 artists>"
      ]
     },
     "execution_count": 8,
     "metadata": {},
     "output_type": "execute_result"
    },
    {
     "data": {
      "image/png": "[encoded data removed]",
      "text/plain": [
       "<Figure size 432x288 with 1 Axes>"
      ]
     },
     "metadata": {
      "needs_background": "light"
     },
     "output_type": "display_data"
    }
   ],
   "source": [
    "average_words_per_category = {}\n",
    "for category in categories :\n",
    "    average_words_per_category[category] = np.mean([len(x['Text']) for index,x in train[train['Category'] == category].iterrows()])\n",
    "    \n",
    "plt.bar(average_words_per_category.keys(), average_words_per_category.values())"
   ]
  },
  {
   "cell_type": "markdown",
   "metadata": {},
   "source": [
    "we can cleary see that the mean number of words in tech and politics related articles in much bigger then everything else, lets observe the number of unique words in the articles but first we need to do a little preprocessing to our data, we will use WhitespaceTokenizer from the ntlk package for that mission."
   ]
  },
  {
   "cell_type": "code",
   "execution_count": 9,
   "metadata": {},
   "outputs": [
    {
     "name": "stdout",
     "output_type": "stream",
     "text": [
      "['worldcom', 'ex-boss', 'launches', 'defence', 'lawyers', 'defending', 'former', 'worldcom', 'chief', 'bernie', 'ebbers', 'against', 'a', 'battery', 'of', 'fraud', 'charges', 'have', 'called', 'a', 'company', 'whistleblower', 'as', 'their', 'first', 'witness.', 'cynthia', 'cooper', 'worldcom', 's', 'ex-head', 'of', 'internal', 'accounting', 'alerted', 'directors', 'to', 'irregular', 'accounting', 'practices', 'at', 'the', 'us', 'telecoms', 'giant', 'in', '2002.', 'her', 'warnings', 'led', 'to', 'the', 'collapse', 'of', 'the', 'firm', 'following', 'the', 'discovery', 'of', 'an', '$11bn', '(£5.7bn)', 'accounting', 'fraud.', 'mr', 'ebbers', 'has', 'pleaded', 'not', 'guilty', 'to', 'charges', 'of', 'fraud', 'and', 'conspiracy.', 'prosecution', 'lawyers', 'have', 'argued', 'that', 'mr', 'ebbers', 'orchestrated', 'a', 'series', 'of', 'accounting', 'tricks', 'at', 'worldcom', 'ordering', 'employees', 'to', 'hide', 'expenses', 'and', 'inflate', 'revenues', 'to', 'meet', 'wall', 'street', 'earnings', 'estimates.', 'but', 'ms', 'cooper', 'who', 'now', 'runs', 'her', 'own', 'consulting', 'business', 'told', 'a', 'jury', 'in', 'new', 'york', 'on', 'wednesday', 'that', 'external', 'auditors', 'arthur', 'andersen', 'had', 'approved', 'worldcom', 's', 'accounting', 'in', 'early', '2001', 'and', '2002.', 'she', 'said', 'andersen', 'had', 'given', 'a', 'green', 'light', 'to', 'the', 'procedures', 'and', 'practices', 'used', 'by', 'worldcom.', 'mr', 'ebber', 's', 'lawyers', 'have', 'said', 'he', 'was', 'unaware', 'of', 'the', 'fraud', 'arguing', 'that', 'auditors', 'did', 'not', 'alert', 'him', 'to', 'any', 'problems.', 'ms', 'cooper', 'also', 'said', 'that', 'during', 'shareholder', 'meetings', 'mr', 'ebbers', 'often', 'passed', 'over', 'technical', 'questions', 'to', 'the', 'company', 's', 'finance', 'chief', 'giving', 'only', 'brief', 'answers', 'himself.', 'the', 'prosecution', 's', 'star', 'witness', 'former', 'worldcom', 'financial', 'chief', 'scott', 'sullivan', 'has', 'said', 'that', 'mr', 'ebbers', 'ordered', 'accounting', 'adjustments', 'at', 'the', 'firm', 'telling', 'him', 'to', 'hit', 'our', 'books', '.', 'however', 'ms', 'cooper', 'said', 'mr', 'sullivan', 'had', 'not', 'mentioned', 'anything', 'uncomfortable', 'about', 'worldcom', 's', 'accounting', 'during', 'a', '2001', 'audit', 'committee', 'meeting.', 'mr', 'ebbers', 'could', 'face', 'a', 'jail', 'sentence', 'of', '85', 'years', 'if', 'convicted', 'of', 'all', 'the', 'charges', 'he', 'is', 'facing.', 'worldcom', 'emerged', 'from', 'bankruptcy', 'protection', 'in', '2004', 'and', 'is', 'now', 'known', 'as', 'mci.', 'last', 'week', 'mci', 'agreed', 'to', 'a', 'buyout', 'by', 'verizon', 'communications', 'in', 'a', 'deal', 'valued', 'at', '$6.75bn.']\n"
     ]
    }
   ],
   "source": [
    "from nltk.tokenize import WhitespaceTokenizer\n",
    "\n",
    "preprocessed_articles = [WhitespaceTokenizer().tokenize(x) for x in train['Text']]\n",
    "print(preprocessed_articles[0])"
   ]
  },
  {
   "cell_type": "code",
   "execution_count": 10,
   "metadata": {},
   "outputs": [
    {
     "name": "stdout",
     "output_type": "stream",
     "text": [
      "35594\n"
     ]
    }
   ],
   "source": [
    "unique_words = set([word for article in preprocessed_articles for word in article])\n",
    "print(len(unique_words))"
   ]
  },
  {
   "cell_type": "markdown",
   "metadata": {},
   "source": [
    "we will split our dataset to 80% train, 20% test as Michael suggested"
   ]
  },
  {
   "cell_type": "code",
   "execution_count": 11,
   "metadata": {},
   "outputs": [],
   "source": [
    "msk = np.random.rand(len(train)) < 0.8\n",
    "\n",
    "new_train = train[msk]\n",
    "new_test = train[~msk]"
   ]
  },
  {
   "cell_type": "code",
   "execution_count": 12,
   "metadata": {},
   "outputs": [],
   "source": [
    "train_preprocessed_articles = [WhitespaceTokenizer().tokenize(x) for x in new_train['Text']]"
   ]
  },
  {
   "cell_type": "markdown",
   "metadata": {},
   "source": [
    "## Q2.2.2 Feature Extraction\n",
    "\n",
    "now we need to create features for our model, we will use doc2vec for that. the main idea of doc2vec unlike word2vec is to create a vector of the entire document and not for just a single word, and when those document have so connection between them, then those vectors cosine distance we be very close and hopfully our logistic regression will be able to notice that. so we will first train our doc2vec on the train dataset."
   ]
  },
  {
   "cell_type": "code",
   "execution_count": 13,
   "metadata": {},
   "outputs": [],
   "source": [
    "from gensim.models.doc2vec import Doc2Vec, TaggedDocument\n",
    "\n",
    "documents = [TaggedDocument(article, [i]) for i, article in enumerate(train_preprocessed_articles)]\n",
    "model = Doc2Vec(documents, vector_size=64, window=2, min_count=1, workers=4, epochs=40)"
   ]
  },
  {
   "cell_type": "markdown",
   "metadata": {},
   "source": [
    "we will then create a train set which consits of those vectors, and try to train the logistic regression. if that process won't achieve good results, we will then try to extract some manual features."
   ]
  },
  {
   "cell_type": "code",
   "execution_count": 14,
   "metadata": {},
   "outputs": [
    {
     "data": {
      "text/plain": [
       "1.0"
      ]
     },
     "execution_count": 14,
     "metadata": {},
     "output_type": "execute_result"
    }
   ],
   "source": [
    "from sklearn.linear_model import LogisticRegression\n",
    "from sklearn.metrics import plot_confusion_matrix, classification_report\n",
    "\n",
    "x_train = [model.infer_vector(article) for article in train_preprocessed_articles]\n",
    "y_train = new_train['Category']\n",
    "\n",
    "logistic_model = LogisticRegression(max_iter=300)\n",
    "logistic_model.fit(x_train,y_train)\n",
    "logistic_model.score(x_train, y_train)"
   ]
  },
  {
   "cell_type": "markdown",
   "metadata": {},
   "source": [
    "## Q2.2.3 Model Training and Evaluation\n",
    "\n",
    "we can see that the model is preforming very well on the train data, it might be an overfit, lets try to evaluate it on the test data to see the results."
   ]
  },
  {
   "cell_type": "code",
   "execution_count": 15,
   "metadata": {},
   "outputs": [
    {
     "name": "stdout",
     "output_type": "stream",
     "text": [
      "               precision    recall  f1-score   support\n",
      "\n",
      "     business       0.94      0.94      0.94        65\n",
      "entertainment       1.00      0.94      0.97        70\n",
      "     politics       0.93      0.93      0.93        57\n",
      "        sport       0.99      1.00      0.99        68\n",
      "         tech       0.92      0.98      0.95        50\n",
      "\n",
      "     accuracy                           0.96       310\n",
      "    macro avg       0.96      0.96      0.96       310\n",
      " weighted avg       0.96      0.96      0.96       310\n",
      "\n"
     ]
    }
   ],
   "source": [
    "test_preprocessed_articles = [WhitespaceTokenizer().tokenize(x) for x in new_test['Text']]\n",
    "x_test = [model.infer_vector(article) for article in test_preprocessed_articles]\n",
    "y_test = new_test['Category']\n",
    "\n",
    "y_pred = logistic_model.predict(x_test)\n",
    "print(classification_report(y_pred, y_test))"
   ]
  },
  {
   "cell_type": "markdown",
   "metadata": {},
   "source": [
    "we can see that the model accuracy is 96%, where politics and tech are the worst ones with 93% and 92% precision respectivly. we will try to increase the vector size of the doc2vec model, to achive higher accuracy."
   ]
  },
  {
   "cell_type": "code",
   "execution_count": 16,
   "metadata": {},
   "outputs": [],
   "source": [
    "documents = [TaggedDocument(article, [i]) for i, article in enumerate(train_preprocessed_articles)]\n",
    "model = Doc2Vec(documents, vector_size=128, window=2, min_count=1, workers=4, epochs=40)"
   ]
  },
  {
   "cell_type": "code",
   "execution_count": 17,
   "metadata": {},
   "outputs": [
    {
     "data": {
      "text/plain": [
       "1.0"
      ]
     },
     "execution_count": 17,
     "metadata": {},
     "output_type": "execute_result"
    }
   ],
   "source": [
    "x_train = [model.infer_vector(article) for article in train_preprocessed_articles]\n",
    "y_train = new_train['Category']\n",
    "\n",
    "logistic_model = LogisticRegression(max_iter=300)\n",
    "logistic_model.fit(x_train,y_train)\n",
    "logistic_model.score(x_train, y_train)"
   ]
  },
  {
   "cell_type": "code",
   "execution_count": 18,
   "metadata": {},
   "outputs": [
    {
     "name": "stdout",
     "output_type": "stream",
     "text": [
      "               precision    recall  f1-score   support\n",
      "\n",
      "     business       0.97      0.95      0.96        66\n",
      "entertainment       0.98      0.94      0.96        69\n",
      "     politics       0.93      0.96      0.95        55\n",
      "        sport       0.99      1.00      0.99        68\n",
      "         tech       0.96      0.98      0.97        52\n",
      "\n",
      "     accuracy                           0.97       310\n",
      "    macro avg       0.97      0.97      0.97       310\n",
      " weighted avg       0.97      0.97      0.97       310\n",
      "\n"
     ]
    }
   ],
   "source": [
    "test_preprocessed_articles = [WhitespaceTokenizer().tokenize(x) for x in new_test['Text']]\n",
    "x_test = [model.infer_vector(article) for article in test_preprocessed_articles]\n",
    "y_test = new_test['Category']\n",
    "\n",
    "y_pred = logistic_model.predict(x_test)\n",
    "print(classification_report(y_pred, y_test))"
   ]
  },
  {
   "cell_type": "markdown",
   "metadata": {},
   "source": [
    "we can see that the tech precision is increased by 4%, and the ovrall acurracy is increased by 1%, we will use that model as our final model, lets plot the confusion matrix."
   ]
  },
  {
   "cell_type": "code",
   "execution_count": 19,
   "metadata": {},
   "outputs": [
    {
     "data": {
      "text/plain": [
       "<sklearn.metrics._plot.confusion_matrix.ConfusionMatrixDisplay at 0x2a08d19aa88>"
      ]
     },
     "execution_count": 19,
     "metadata": {},
     "output_type": "execute_result"
    },
    {
     "data": {
      "image/png": "[encoded data removed]",
      "text/plain": [
       "<Figure size 432x288 with 2 Axes>"
      ]
     },
     "metadata": {
      "needs_background": "light"
     },
     "output_type": "display_data"
    }
   ],
   "source": [
    "plot_confusion_matrix(logistic_model, x_test, y_test, normalize='true')"
   ]
  },
  {
   "cell_type": "markdown",
   "metadata": {},
   "source": [
    "that model perform very well, we can see that the diagonal values are much higer than anything in the chart, it makes only a few mistakes."
   ]
  }
 ],
 "metadata": {
  "kernelspec": {
   "display_name": "Python 3",
   "language": "python",
   "name": "python3"
  },
  "language_info": {
   "codemirror_mode": {
    "name": "ipython",
    "version": 3
   },
   "file_extension": ".py",
   "mimetype": "text/x-python",
   "name": "python",
   "nbconvert_exporter": "python",
   "pygments_lexer": "ipython3",
   "version": "3.7.9"
  }
 },
 "nbformat": 4,
 "nbformat_minor": 4
}
